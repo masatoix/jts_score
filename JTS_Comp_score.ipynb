{
 "metadata": {
  "language_info": {
   "codemirror_mode": {
    "name": "ipython",
    "version": 3
   },
   "file_extension": ".py",
   "mimetype": "text/x-python",
   "name": "python",
   "nbconvert_exporter": "python",
   "pygments_lexer": "ipython3",
   "version": "3.8.7-final"
  },
  "orig_nbformat": 2,
  "kernelspec": {
   "name": "python3",
   "display_name": "Python 3",
   "language": "python"
  }
 },
 "nbformat": 4,
 "nbformat_minor": 2,
 "cells": [
  {
   "cell_type": "code",
   "execution_count": 1,
   "metadata": {},
   "outputs": [],
   "source": [
    "import pandas as pd"
   ]
  },
  {
   "cell_type": "code",
   "execution_count": 2,
   "metadata": {},
   "outputs": [],
   "source": [
    "# ファイルの場所\n",
    "\n",
    "input_data = 'input_files/JO2020.xlsx'\n",
    "output_data = 'output_files/JTS_score_data.xlsx'"
   ]
  },
  {
   "cell_type": "code",
   "execution_count": 3,
   "metadata": {},
   "outputs": [],
   "source": [
    "# データからの検索をするためのリスト\n",
    "\n",
    "teams = [\n",
    "    '金沢学院大学クラブ',\n",
    "    'アベノジュニアトランポリンクラブ',\n",
    "    '厚木FUSiONスポーツクラブ',\n",
    "    '日本体育大学トランポリンクラブ',\n",
    "    '星稜クラブ',\n",
    "    'キタイスポーツクラブ'\n",
    "]\n",
    "\n",
    "names = [\n",
    "    'ひかる',\n",
    "    '裕美',\n",
    "    '愛菜',\n",
    "    '沙季',\n",
    "    'セリナ',\n",
    "    'ここね',\n",
    "    '守杏',\n",
    "    '晴茄',\n",
    "    '希湖',\n",
    "    '美咲希'\n",
    "]\n",
    "\n",
    "stages = [\n",
    "    'Qualification',\n",
    "    'Final'\n",
    "]"
   ]
  },
  {
   "cell_type": "code",
   "execution_count": 4,
   "metadata": {},
   "outputs": [
    {
     "output_type": "error",
     "ename": "FileNotFoundError",
     "evalue": "[Errno 2] No such file or directory: 'scoredata.xlsx'",
     "traceback": [
      "\u001b[0;31m---------------------------------------------------------------------------\u001b[0m",
      "\u001b[0;31mFileNotFoundError\u001b[0m                         Traceback (most recent call last)",
      "\u001b[0;32m<ipython-input-4-291654b9207a>\u001b[0m in \u001b[0;36m<module>\u001b[0;34m\u001b[0m\n\u001b[1;32m      1\u001b[0m \u001b[0;31m# 各大会のスコアデータの読み込み時に必要なデータのみ抽出\u001b[0m\u001b[0;34m\u001b[0m\u001b[0;34m\u001b[0m\u001b[0;34m\u001b[0m\u001b[0m\n\u001b[1;32m      2\u001b[0m \u001b[0;34m\u001b[0m\u001b[0m\n\u001b[0;32m----> 3\u001b[0;31m \u001b[0mdf\u001b[0m \u001b[0;34m=\u001b[0m \u001b[0mpd\u001b[0m\u001b[0;34m.\u001b[0m\u001b[0mread_excel\u001b[0m\u001b[0;34m(\u001b[0m\u001b[0minput_data\u001b[0m\u001b[0;34m)\u001b[0m\u001b[0;34m\u001b[0m\u001b[0;34m\u001b[0m\u001b[0m\n\u001b[0m\u001b[1;32m      4\u001b[0m df = df[[\n\u001b[1;32m      5\u001b[0m     \u001b[0;34m'Competition'\u001b[0m\u001b[0;34m,\u001b[0m\u001b[0;34m\u001b[0m\u001b[0;34m\u001b[0m\u001b[0m\n",
      "\u001b[0;32m/Library/Frameworks/Python.framework/Versions/3.8/lib/python3.8/site-packages/pandas/util/_decorators.py\u001b[0m in \u001b[0;36mwrapper\u001b[0;34m(*args, **kwargs)\u001b[0m\n\u001b[1;32m    297\u001b[0m                 )\n\u001b[1;32m    298\u001b[0m                 \u001b[0mwarnings\u001b[0m\u001b[0;34m.\u001b[0m\u001b[0mwarn\u001b[0m\u001b[0;34m(\u001b[0m\u001b[0mmsg\u001b[0m\u001b[0;34m,\u001b[0m \u001b[0mFutureWarning\u001b[0m\u001b[0;34m,\u001b[0m \u001b[0mstacklevel\u001b[0m\u001b[0;34m=\u001b[0m\u001b[0mstacklevel\u001b[0m\u001b[0;34m)\u001b[0m\u001b[0;34m\u001b[0m\u001b[0;34m\u001b[0m\u001b[0m\n\u001b[0;32m--> 299\u001b[0;31m             \u001b[0;32mreturn\u001b[0m \u001b[0mfunc\u001b[0m\u001b[0;34m(\u001b[0m\u001b[0;34m*\u001b[0m\u001b[0margs\u001b[0m\u001b[0;34m,\u001b[0m \u001b[0;34m**\u001b[0m\u001b[0mkwargs\u001b[0m\u001b[0;34m)\u001b[0m\u001b[0;34m\u001b[0m\u001b[0;34m\u001b[0m\u001b[0m\n\u001b[0m\u001b[1;32m    300\u001b[0m \u001b[0;34m\u001b[0m\u001b[0m\n\u001b[1;32m    301\u001b[0m         \u001b[0;32mreturn\u001b[0m \u001b[0mwrapper\u001b[0m\u001b[0;34m\u001b[0m\u001b[0;34m\u001b[0m\u001b[0m\n",
      "\u001b[0;32m/Library/Frameworks/Python.framework/Versions/3.8/lib/python3.8/site-packages/pandas/io/excel/_base.py\u001b[0m in \u001b[0;36mread_excel\u001b[0;34m(io, sheet_name, header, names, index_col, usecols, squeeze, dtype, engine, converters, true_values, false_values, skiprows, nrows, na_values, keep_default_na, na_filter, verbose, parse_dates, date_parser, thousands, comment, skipfooter, convert_float, mangle_dupe_cols, storage_options)\u001b[0m\n\u001b[1;32m    334\u001b[0m     \u001b[0;32mif\u001b[0m \u001b[0;32mnot\u001b[0m \u001b[0misinstance\u001b[0m\u001b[0;34m(\u001b[0m\u001b[0mio\u001b[0m\u001b[0;34m,\u001b[0m \u001b[0mExcelFile\u001b[0m\u001b[0;34m)\u001b[0m\u001b[0;34m:\u001b[0m\u001b[0;34m\u001b[0m\u001b[0;34m\u001b[0m\u001b[0m\n\u001b[1;32m    335\u001b[0m         \u001b[0mshould_close\u001b[0m \u001b[0;34m=\u001b[0m \u001b[0;32mTrue\u001b[0m\u001b[0;34m\u001b[0m\u001b[0;34m\u001b[0m\u001b[0m\n\u001b[0;32m--> 336\u001b[0;31m         \u001b[0mio\u001b[0m \u001b[0;34m=\u001b[0m \u001b[0mExcelFile\u001b[0m\u001b[0;34m(\u001b[0m\u001b[0mio\u001b[0m\u001b[0;34m,\u001b[0m \u001b[0mstorage_options\u001b[0m\u001b[0;34m=\u001b[0m\u001b[0mstorage_options\u001b[0m\u001b[0;34m,\u001b[0m \u001b[0mengine\u001b[0m\u001b[0;34m=\u001b[0m\u001b[0mengine\u001b[0m\u001b[0;34m)\u001b[0m\u001b[0;34m\u001b[0m\u001b[0;34m\u001b[0m\u001b[0m\n\u001b[0m\u001b[1;32m    337\u001b[0m     \u001b[0;32melif\u001b[0m \u001b[0mengine\u001b[0m \u001b[0;32mand\u001b[0m \u001b[0mengine\u001b[0m \u001b[0;34m!=\u001b[0m \u001b[0mio\u001b[0m\u001b[0;34m.\u001b[0m\u001b[0mengine\u001b[0m\u001b[0;34m:\u001b[0m\u001b[0;34m\u001b[0m\u001b[0;34m\u001b[0m\u001b[0m\n\u001b[1;32m    338\u001b[0m         raise ValueError(\n",
      "\u001b[0;32m/Library/Frameworks/Python.framework/Versions/3.8/lib/python3.8/site-packages/pandas/io/excel/_base.py\u001b[0m in \u001b[0;36m__init__\u001b[0;34m(self, path_or_buffer, engine, storage_options)\u001b[0m\n\u001b[1;32m   1055\u001b[0m             \u001b[0mext\u001b[0m \u001b[0;34m=\u001b[0m \u001b[0;34m\"xls\"\u001b[0m\u001b[0;34m\u001b[0m\u001b[0;34m\u001b[0m\u001b[0m\n\u001b[1;32m   1056\u001b[0m         \u001b[0;32melse\u001b[0m\u001b[0;34m:\u001b[0m\u001b[0;34m\u001b[0m\u001b[0;34m\u001b[0m\u001b[0m\n\u001b[0;32m-> 1057\u001b[0;31m             ext = inspect_excel_format(\n\u001b[0m\u001b[1;32m   1058\u001b[0m                 \u001b[0mcontent\u001b[0m\u001b[0;34m=\u001b[0m\u001b[0mpath_or_buffer\u001b[0m\u001b[0;34m,\u001b[0m \u001b[0mstorage_options\u001b[0m\u001b[0;34m=\u001b[0m\u001b[0mstorage_options\u001b[0m\u001b[0;34m\u001b[0m\u001b[0;34m\u001b[0m\u001b[0m\n\u001b[1;32m   1059\u001b[0m             )\n",
      "\u001b[0;32m/Library/Frameworks/Python.framework/Versions/3.8/lib/python3.8/site-packages/pandas/io/excel/_base.py\u001b[0m in \u001b[0;36minspect_excel_format\u001b[0;34m(path, content, storage_options)\u001b[0m\n\u001b[1;32m    936\u001b[0m     \u001b[0;32massert\u001b[0m \u001b[0mcontent_or_path\u001b[0m \u001b[0;32mis\u001b[0m \u001b[0;32mnot\u001b[0m \u001b[0;32mNone\u001b[0m\u001b[0;34m\u001b[0m\u001b[0;34m\u001b[0m\u001b[0m\n\u001b[1;32m    937\u001b[0m \u001b[0;34m\u001b[0m\u001b[0m\n\u001b[0;32m--> 938\u001b[0;31m     with get_handle(\n\u001b[0m\u001b[1;32m    939\u001b[0m         \u001b[0mcontent_or_path\u001b[0m\u001b[0;34m,\u001b[0m \u001b[0;34m\"rb\"\u001b[0m\u001b[0;34m,\u001b[0m \u001b[0mstorage_options\u001b[0m\u001b[0;34m=\u001b[0m\u001b[0mstorage_options\u001b[0m\u001b[0;34m,\u001b[0m \u001b[0mis_text\u001b[0m\u001b[0;34m=\u001b[0m\u001b[0;32mFalse\u001b[0m\u001b[0;34m\u001b[0m\u001b[0;34m\u001b[0m\u001b[0m\n\u001b[1;32m    940\u001b[0m     ) as handle:\n",
      "\u001b[0;32m/Library/Frameworks/Python.framework/Versions/3.8/lib/python3.8/site-packages/pandas/io/common.py\u001b[0m in \u001b[0;36mget_handle\u001b[0;34m(path_or_buf, mode, encoding, compression, memory_map, is_text, errors, storage_options)\u001b[0m\n\u001b[1;32m    649\u001b[0m         \u001b[0;32melse\u001b[0m\u001b[0;34m:\u001b[0m\u001b[0;34m\u001b[0m\u001b[0;34m\u001b[0m\u001b[0m\n\u001b[1;32m    650\u001b[0m             \u001b[0;31m# Binary mode\u001b[0m\u001b[0;34m\u001b[0m\u001b[0;34m\u001b[0m\u001b[0;34m\u001b[0m\u001b[0m\n\u001b[0;32m--> 651\u001b[0;31m             \u001b[0mhandle\u001b[0m \u001b[0;34m=\u001b[0m \u001b[0mopen\u001b[0m\u001b[0;34m(\u001b[0m\u001b[0mhandle\u001b[0m\u001b[0;34m,\u001b[0m \u001b[0mioargs\u001b[0m\u001b[0;34m.\u001b[0m\u001b[0mmode\u001b[0m\u001b[0;34m)\u001b[0m\u001b[0;34m\u001b[0m\u001b[0;34m\u001b[0m\u001b[0m\n\u001b[0m\u001b[1;32m    652\u001b[0m         \u001b[0mhandles\u001b[0m\u001b[0;34m.\u001b[0m\u001b[0mappend\u001b[0m\u001b[0;34m(\u001b[0m\u001b[0mhandle\u001b[0m\u001b[0;34m)\u001b[0m\u001b[0;34m\u001b[0m\u001b[0;34m\u001b[0m\u001b[0m\n\u001b[1;32m    653\u001b[0m \u001b[0;34m\u001b[0m\u001b[0m\n",
      "\u001b[0;31mFileNotFoundError\u001b[0m: [Errno 2] No such file or directory: 'scoredata.xlsx'"
     ]
    }
   ],
   "source": [
    "# 各大会のスコアデータの読み込み時に必要なデータのみ抽出\n",
    "\n",
    "df = pd.read_excel(input_data)\n",
    "df = df[[\n",
    "    'Competition',\n",
    "    'Stage',\n",
    "    'Surname',\n",
    "    'Given Name',\n",
    "    'Representing',\n",
    "    'Mark',\n",
    "    'Judge',\n",
    "    '∑'\n",
    "]]"
   ]
  },
  {
   "cell_type": "code",
   "execution_count": 192,
   "metadata": {},
   "outputs": [],
   "source": [
    "# 上記のリストを利用し、クラブ名、名前、ルーティン名で検索して一人を抜き出して df1 に格納\n",
    "# その後、各ジャッジの点数が列として格納されているため、一旦ジャッジ名と点数のみを取り出して転置し df2 に格納\n",
    "# さらに、df1 と df2 のインデックスを一旦クリアし結合処理\n",
    "\n",
    "def main(team, name, stage):\n",
    "    df1 = df[df['Representing'] == team]\n",
    "    df1 = df1[df1['Given Name'] == name]\n",
    "    df1 = df1[df1['Stage'] == stage]\n",
    "    df1 = df1.iloc[:1, [0, 1, 2, 3, 4, 5]]\n",
    "\n",
    "    df2= df[df['Representing'] == team]\n",
    "    df2 = df2[df2['Given Name'] == name]\n",
    "    df2 = df2[df2['Stage'] == stage]\n",
    "    df2 = df2.loc[:, ['Judge','∑']]\n",
    "    df2 = df2.set_index('Judge')\n",
    "    df2 = df2[0:10].T\n",
    "    \n",
    "    df1.reset_index(drop=True, inplace=True)\n",
    "    df2.reset_index(drop=True, inplace=True)\n",
    "\n",
    "    df3 = pd.concat([df1, df2], axis=1)\n",
    "    return df3"
   ]
  },
  {
   "cell_type": "code",
   "execution_count": 193,
   "metadata": {},
   "outputs": [],
   "source": [
    "# result_df という空のリストを用意\n",
    "# for文にて、各選手の情報を検索し、main() に渡す\n",
    "# 取り出された各選手のデータを result_df に格納\n",
    "# result_df に格納された各選手のデータを結合処理\n",
    "\n",
    "result_df = []\n",
    "\n",
    "for team in teams:\n",
    "    for name in names:\n",
    "        for stage in stages:\n",
    "            result_df.append(main(team, name, stage))\n",
    "\n",
    "result_df = pd.concat(result_df)"
   ]
  },
  {
   "cell_type": "code",
   "execution_count": 194,
   "metadata": {},
   "outputs": [],
   "source": [
    "# 結合時にできた欠損値を含む行をすべて削除\n",
    "\n",
    "result_df = result_df.dropna(how='all')"
   ]
  },
  {
   "cell_type": "code",
   "execution_count": 195,
   "metadata": {},
   "outputs": [],
   "source": [
    "# lambda を使って、各列のスコアの桁数を調整\n",
    "\n",
    "result_df['Mark'] = result_df.apply(lambda x: x['Mark']/1000, axis=1)\n",
    "result_df['E1'] = result_df.apply(lambda x: x['E1']/10, axis=1)\n",
    "result_df['E2'] = result_df.apply(lambda x: x['E2']/10, axis=1)\n",
    "result_df['E3'] = result_df.apply(lambda x: x['E3']/10, axis=1)\n",
    "result_df['E4'] = result_df.apply(lambda x: x['E4']/10, axis=1)\n",
    "result_df['E5'] = result_df.apply(lambda x: x['E5']/10, axis=1)\n",
    "result_df['E8'] = result_df.apply(lambda x: x['E8']/10, axis=1)\n",
    "result_df['E∑'] = result_df.apply(lambda x: x['E∑']/10, axis=1)\n",
    "result_df['T'] = result_df.apply(lambda x: x['T']/1000, axis=1)\n",
    "result_df['D'] = result_df.apply(lambda x: x['D']/10, axis=1)\n",
    "result_df['H'] = result_df.apply(lambda x: x['H']/100, axis=1)"
   ]
  },
  {
   "cell_type": "code",
   "execution_count": 196,
   "metadata": {},
   "outputs": [],
   "source": [
    "# Excel ファイルに保存\n",
    "\n",
    "result_df.to_excel(output_data, index=False)"
   ]
  },
  {
   "cell_type": "code",
   "execution_count": 197,
   "metadata": {},
   "outputs": [
    {
     "output_type": "execute_result",
     "data": {
      "text/plain": [
       "               Competition          Stage Surname Given Name  \\\n",
       "0  ジャパンオープン/全日本社会人 女子 (B台)  Qualification       森        ひかる   \n",
       "0  ジャパンオープン/全日本社会人 女子 (B台)          Final       森        ひかる   \n",
       "0  ジャパンオープン/全日本社会人 女子 (B台)  Qualification      高木         裕美   \n",
       "0  ジャパンオープン/全日本社会人 女子 (B台)  Qualification      田中         沙季   \n",
       "0           13-14才 女子 (B台)  Qualification      田中         希湖   \n",
       "0           13-14才 女子 (B台)          Final      田中         希湖   \n",
       "0           13-14才 女子 (B台)  Qualification      石田        美咲希   \n",
       "0           15-16才 女子 (A台)  Qualification      小野         晴茄   \n",
       "0           15-16才 女子 (A台)          Final      小野         晴茄   \n",
       "\n",
       "       Representing    Mark   E1   E2   E3   E4   E5   E8    E∑       T     D  \\\n",
       "0         金沢学院大学クラブ  50.025  9.1  9.4  9.3  9.3  9.1  9.2  18.6  16.725   5.0   \n",
       "0         金沢学院大学クラブ  54.235  8.4  7.9  8.3  8.1  7.9  7.9  16.1  15.935  12.8   \n",
       "0         金沢学院大学クラブ  47.785  9.1  9.0  9.0  8.8  8.4  9.0  17.9  15.785   4.6   \n",
       "0         金沢学院大学クラブ  20.130  3.1  3.4  3.4  3.3  3.3  3.4   6.7   6.530   3.1   \n",
       "0  アベノジュニアトランポリンクラブ  52.320  7.9  8.3  8.6  8.4  8.3  8.4  16.8  15.020  11.1   \n",
       "0  アベノジュニアトランポリンクラブ  30.990  4.7  5.4  5.1  4.9  5.0  5.0  10.0   9.190   6.8   \n",
       "0   厚木FUSiONスポーツクラブ  35.870  5.8  5.7  5.7  5.7  5.7  5.6  11.4  10.470   7.5   \n",
       "0   日本体育大学トランポリンクラブ  49.615  8.1  8.0  8.2  8.5  8.1  8.1  16.2  15.615   8.6   \n",
       "0   日本体育大学トランポリンクラブ  50.585  8.3  8.0  8.4  8.2  8.4  8.5  16.5  15.585   8.8   \n",
       "\n",
       "     H  \n",
       "0  9.7  \n",
       "0  9.4  \n",
       "0  9.5  \n",
       "0  3.8  \n",
       "0  9.4  \n",
       "0  5.0  \n",
       "0  6.5  \n",
       "0  9.2  \n",
       "0  9.7  "
      ],
      "text/html": "<div>\n<style scoped>\n    .dataframe tbody tr th:only-of-type {\n        vertical-align: middle;\n    }\n\n    .dataframe tbody tr th {\n        vertical-align: top;\n    }\n\n    .dataframe thead th {\n        text-align: right;\n    }\n</style>\n<table border=\"1\" class=\"dataframe\">\n  <thead>\n    <tr style=\"text-align: right;\">\n      <th></th>\n      <th>Competition</th>\n      <th>Stage</th>\n      <th>Surname</th>\n      <th>Given Name</th>\n      <th>Representing</th>\n      <th>Mark</th>\n      <th>E1</th>\n      <th>E2</th>\n      <th>E3</th>\n      <th>E4</th>\n      <th>E5</th>\n      <th>E8</th>\n      <th>E∑</th>\n      <th>T</th>\n      <th>D</th>\n      <th>H</th>\n    </tr>\n  </thead>\n  <tbody>\n    <tr>\n      <th>0</th>\n      <td>ジャパンオープン/全日本社会人 女子 (B台)</td>\n      <td>Qualification</td>\n      <td>森</td>\n      <td>ひかる</td>\n      <td>金沢学院大学クラブ</td>\n      <td>50.025</td>\n      <td>9.1</td>\n      <td>9.4</td>\n      <td>9.3</td>\n      <td>9.3</td>\n      <td>9.1</td>\n      <td>9.2</td>\n      <td>18.6</td>\n      <td>16.725</td>\n      <td>5.0</td>\n      <td>9.7</td>\n    </tr>\n    <tr>\n      <th>0</th>\n      <td>ジャパンオープン/全日本社会人 女子 (B台)</td>\n      <td>Final</td>\n      <td>森</td>\n      <td>ひかる</td>\n      <td>金沢学院大学クラブ</td>\n      <td>54.235</td>\n      <td>8.4</td>\n      <td>7.9</td>\n      <td>8.3</td>\n      <td>8.1</td>\n      <td>7.9</td>\n      <td>7.9</td>\n      <td>16.1</td>\n      <td>15.935</td>\n      <td>12.8</td>\n      <td>9.4</td>\n    </tr>\n    <tr>\n      <th>0</th>\n      <td>ジャパンオープン/全日本社会人 女子 (B台)</td>\n      <td>Qualification</td>\n      <td>高木</td>\n      <td>裕美</td>\n      <td>金沢学院大学クラブ</td>\n      <td>47.785</td>\n      <td>9.1</td>\n      <td>9.0</td>\n      <td>9.0</td>\n      <td>8.8</td>\n      <td>8.4</td>\n      <td>9.0</td>\n      <td>17.9</td>\n      <td>15.785</td>\n      <td>4.6</td>\n      <td>9.5</td>\n    </tr>\n    <tr>\n      <th>0</th>\n      <td>ジャパンオープン/全日本社会人 女子 (B台)</td>\n      <td>Qualification</td>\n      <td>田中</td>\n      <td>沙季</td>\n      <td>金沢学院大学クラブ</td>\n      <td>20.130</td>\n      <td>3.1</td>\n      <td>3.4</td>\n      <td>3.4</td>\n      <td>3.3</td>\n      <td>3.3</td>\n      <td>3.4</td>\n      <td>6.7</td>\n      <td>6.530</td>\n      <td>3.1</td>\n      <td>3.8</td>\n    </tr>\n    <tr>\n      <th>0</th>\n      <td>13-14才 女子 (B台)</td>\n      <td>Qualification</td>\n      <td>田中</td>\n      <td>希湖</td>\n      <td>アベノジュニアトランポリンクラブ</td>\n      <td>52.320</td>\n      <td>7.9</td>\n      <td>8.3</td>\n      <td>8.6</td>\n      <td>8.4</td>\n      <td>8.3</td>\n      <td>8.4</td>\n      <td>16.8</td>\n      <td>15.020</td>\n      <td>11.1</td>\n      <td>9.4</td>\n    </tr>\n    <tr>\n      <th>0</th>\n      <td>13-14才 女子 (B台)</td>\n      <td>Final</td>\n      <td>田中</td>\n      <td>希湖</td>\n      <td>アベノジュニアトランポリンクラブ</td>\n      <td>30.990</td>\n      <td>4.7</td>\n      <td>5.4</td>\n      <td>5.1</td>\n      <td>4.9</td>\n      <td>5.0</td>\n      <td>5.0</td>\n      <td>10.0</td>\n      <td>9.190</td>\n      <td>6.8</td>\n      <td>5.0</td>\n    </tr>\n    <tr>\n      <th>0</th>\n      <td>13-14才 女子 (B台)</td>\n      <td>Qualification</td>\n      <td>石田</td>\n      <td>美咲希</td>\n      <td>厚木FUSiONスポーツクラブ</td>\n      <td>35.870</td>\n      <td>5.8</td>\n      <td>5.7</td>\n      <td>5.7</td>\n      <td>5.7</td>\n      <td>5.7</td>\n      <td>5.6</td>\n      <td>11.4</td>\n      <td>10.470</td>\n      <td>7.5</td>\n      <td>6.5</td>\n    </tr>\n    <tr>\n      <th>0</th>\n      <td>15-16才 女子 (A台)</td>\n      <td>Qualification</td>\n      <td>小野</td>\n      <td>晴茄</td>\n      <td>日本体育大学トランポリンクラブ</td>\n      <td>49.615</td>\n      <td>8.1</td>\n      <td>8.0</td>\n      <td>8.2</td>\n      <td>8.5</td>\n      <td>8.1</td>\n      <td>8.1</td>\n      <td>16.2</td>\n      <td>15.615</td>\n      <td>8.6</td>\n      <td>9.2</td>\n    </tr>\n    <tr>\n      <th>0</th>\n      <td>15-16才 女子 (A台)</td>\n      <td>Final</td>\n      <td>小野</td>\n      <td>晴茄</td>\n      <td>日本体育大学トランポリンクラブ</td>\n      <td>50.585</td>\n      <td>8.3</td>\n      <td>8.0</td>\n      <td>8.4</td>\n      <td>8.2</td>\n      <td>8.4</td>\n      <td>8.5</td>\n      <td>16.5</td>\n      <td>15.585</td>\n      <td>8.8</td>\n      <td>9.7</td>\n    </tr>\n  </tbody>\n</table>\n</div>"
     },
     "metadata": {},
     "execution_count": 197
    }
   ],
   "source": [
    "result_df"
   ]
  },
  {
   "cell_type": "code",
   "execution_count": null,
   "metadata": {},
   "outputs": [],
   "source": []
  }
 ]
}