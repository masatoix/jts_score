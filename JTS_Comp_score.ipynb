{
 "metadata": {
  "language_info": {
   "codemirror_mode": {
    "name": "ipython",
    "version": 3
   },
   "file_extension": ".py",
   "mimetype": "text/x-python",
   "name": "python",
   "nbconvert_exporter": "python",
   "pygments_lexer": "ipython3",
   "version": "3.8.7-final"
  },
  "orig_nbformat": 2,
  "kernelspec": {
   "name": "python3",
   "display_name": "Python 3",
   "language": "python"
  }
 },
 "nbformat": 4,
 "nbformat_minor": 2,
 "cells": [
  {
   "cell_type": "code",
   "execution_count": 91,
   "metadata": {},
   "outputs": [],
   "source": [
    "import pandas as pd"
   ]
  },
  {
   "cell_type": "code",
   "execution_count": 92,
   "metadata": {},
   "outputs": [],
   "source": [
    "# ファイルの場所\n",
    "\n",
    "input_data = 'scoredata.xlsx'\n",
    "output_data = 'JTS_score_data.xlsx'"
   ]
  },
  {
   "cell_type": "code",
   "execution_count": 93,
   "metadata": {},
   "outputs": [],
   "source": [
    "# データからの検索をするためのリスト\n",
    "\n",
    "teams = [\n",
    "    '金沢学院大学クラブ',\n",
    "    'アベノジュニアトランポリンクラブ',\n",
    "    '厚木FUSiONスポーツクラブ',\n",
    "    '日本体育大学トランポリンクラブ',\n",
    "    '星稜クラブ',\n",
    "    'キタイスポーツクラブ'\n",
    "]\n",
    "\n",
    "names = [\n",
    "    'ひかる',\n",
    "    '裕美',\n",
    "    '愛菜',\n",
    "    '沙季',\n",
    "    'セリナ',\n",
    "    'ここね',\n",
    "    '守杏',\n",
    "    '晴茄',\n",
    "    '希湖',\n",
    "    '美咲希'\n",
    "]\n",
    "\n",
    "stages = [\n",
    "    'Qualification',\n",
    "    'Final'\n",
    "]"
   ]
  },
  {
   "cell_type": "code",
   "execution_count": 94,
   "metadata": {},
   "outputs": [],
   "source": [
    "# 各大会のスコアデータの読み込み時に必要なデータのみ抽出\n",
    "\n",
    "df = pd.read_excel(input_data)\n",
    "df = df[[\n",
    "    'Competition',\n",
    "    'Stage',\n",
    "    'Surname',\n",
    "    'Given Name',\n",
    "    'Representing',\n",
    "    'Mark',\n",
    "    'Judge',\n",
    "    '∑'\n",
    "]]"
   ]
  },
  {
   "cell_type": "code",
   "execution_count": 95,
   "metadata": {},
   "outputs": [],
   "source": [
    "# 上記のリストを利用し、クラブ名、名前、ルーティン名で検索して一人を抜き出して df1 に格納\n",
    "# その後、各ジャッジの点数が列として格納されているため、一旦ジャッジ名と点数のみを取り出して転置し df2 に格納\n",
    "# さらに、df1 と df2 のインデックスを一旦クリアし結合処理\n",
    "\n",
    "def main(team, name, stage):\n",
    "    df1 = df[df['Representing'] == team]\n",
    "    df1 = df1[df1['Given Name'] == name]\n",
    "    df1 = df1[df1['Stage'] == stage]\n",
    "    df1 = df1.iloc[:1, [0, 1, 2, 3, 4, 5]]\n",
    "\n",
    "    df2= df[df['Representing'] == team]\n",
    "    df2 = df2[df2['Given Name'] == name]\n",
    "    df2 = df2[df2['Stage'] == stage]\n",
    "    df2 = df2.loc[:, ['Judge','∑']]\n",
    "    df2 = df2.set_index('Judge')\n",
    "    df2 = df2[0:10].T\n",
    "    \n",
    "    df1.reset_index(drop=True, inplace=True)\n",
    "    df2.reset_index(drop=True, inplace=True)\n",
    "\n",
    "    df3 = pd.concat([df1, df2], axis=1)\n",
    "    return df3"
   ]
  },
  {
   "cell_type": "code",
   "execution_count": 96,
   "metadata": {},
   "outputs": [],
   "source": [
    "# result_df という空のリストを用意\n",
    "# for文にて、各選手の情報を検索し、main() に渡す\n",
    "# 取り出された各選手のデータを result_df に格納\n",
    "# result_df に格納された各選手のデータを結合処理\n",
    "\n",
    "result_df = []\n",
    "\n",
    "for team in teams:\n",
    "    for name in names:\n",
    "        for stage in stages:\n",
    "            result_df.append(main(team, name, stage))\n",
    "\n",
    "result_df = pd.concat(result_df)"
   ]
  },
  {
   "cell_type": "code",
   "execution_count": 97,
   "metadata": {},
   "outputs": [],
   "source": [
    "# 結合時にできた欠損値を含む行をすべて削除\n",
    "\n",
    "result_df = result_df.dropna(how='all')"
   ]
  },
  {
   "cell_type": "code",
   "execution_count": 98,
   "metadata": {},
   "outputs": [],
   "source": [
    "# Excel ファイルに保存\n",
    "\n",
    "result_df.to_excel(output_data, index=False)"
   ]
  }
 ]
}